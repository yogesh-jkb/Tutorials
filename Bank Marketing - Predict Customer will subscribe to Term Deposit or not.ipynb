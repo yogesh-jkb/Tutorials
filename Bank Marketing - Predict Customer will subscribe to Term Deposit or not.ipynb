{
 "cells": [
  {
   "cell_type": "code",
   "execution_count": 2,
   "metadata": {},
   "outputs": [],
   "source": [
    "# Importing Data Analysis Librarys\n",
    "import numpy as np\n",
    "import pandas as pd\n",
    "import matplotlib.pyplot as plt\n",
    "import seaborn as sns\n",
    "%matplotlib inline\n",
    "import warnings\n",
    "warnings.filterwarnings('ignore')"
   ]
  },
  {
   "cell_type": "code",
   "execution_count": 3,
   "metadata": {},
   "outputs": [
    {
     "data": {
      "text/html": [
       "<div>\n",
       "<style scoped>\n",
       "    .dataframe tbody tr th:only-of-type {\n",
       "        vertical-align: middle;\n",
       "    }\n",
       "\n",
       "    .dataframe tbody tr th {\n",
       "        vertical-align: top;\n",
       "    }\n",
       "\n",
       "    .dataframe thead th {\n",
       "        text-align: right;\n",
       "    }\n",
       "</style>\n",
       "<table border=\"1\" class=\"dataframe\">\n",
       "  <thead>\n",
       "    <tr style=\"text-align: right;\">\n",
       "      <th></th>\n",
       "      <th>age</th>\n",
       "      <th>job</th>\n",
       "      <th>marital</th>\n",
       "      <th>education</th>\n",
       "      <th>default</th>\n",
       "      <th>housing</th>\n",
       "      <th>loan</th>\n",
       "      <th>contact</th>\n",
       "      <th>month</th>\n",
       "      <th>day_of_week</th>\n",
       "      <th>...</th>\n",
       "      <th>campaign</th>\n",
       "      <th>pdays</th>\n",
       "      <th>previous</th>\n",
       "      <th>poutcome</th>\n",
       "      <th>emp.var.rate</th>\n",
       "      <th>cons.price.idx</th>\n",
       "      <th>cons.conf.idx</th>\n",
       "      <th>euribor3m</th>\n",
       "      <th>nr.employed</th>\n",
       "      <th>y</th>\n",
       "    </tr>\n",
       "  </thead>\n",
       "  <tbody>\n",
       "    <tr>\n",
       "      <th>0</th>\n",
       "      <td>56</td>\n",
       "      <td>housemaid</td>\n",
       "      <td>married</td>\n",
       "      <td>basic.4y</td>\n",
       "      <td>no</td>\n",
       "      <td>no</td>\n",
       "      <td>no</td>\n",
       "      <td>telephone</td>\n",
       "      <td>may</td>\n",
       "      <td>mon</td>\n",
       "      <td>...</td>\n",
       "      <td>1</td>\n",
       "      <td>999</td>\n",
       "      <td>0</td>\n",
       "      <td>nonexistent</td>\n",
       "      <td>1.1</td>\n",
       "      <td>93.994</td>\n",
       "      <td>-36.4</td>\n",
       "      <td>4.857</td>\n",
       "      <td>5191.0</td>\n",
       "      <td>no</td>\n",
       "    </tr>\n",
       "    <tr>\n",
       "      <th>1</th>\n",
       "      <td>57</td>\n",
       "      <td>services</td>\n",
       "      <td>married</td>\n",
       "      <td>high.school</td>\n",
       "      <td>unknown</td>\n",
       "      <td>no</td>\n",
       "      <td>no</td>\n",
       "      <td>telephone</td>\n",
       "      <td>may</td>\n",
       "      <td>mon</td>\n",
       "      <td>...</td>\n",
       "      <td>1</td>\n",
       "      <td>999</td>\n",
       "      <td>0</td>\n",
       "      <td>nonexistent</td>\n",
       "      <td>1.1</td>\n",
       "      <td>93.994</td>\n",
       "      <td>-36.4</td>\n",
       "      <td>4.857</td>\n",
       "      <td>5191.0</td>\n",
       "      <td>no</td>\n",
       "    </tr>\n",
       "    <tr>\n",
       "      <th>2</th>\n",
       "      <td>37</td>\n",
       "      <td>services</td>\n",
       "      <td>married</td>\n",
       "      <td>high.school</td>\n",
       "      <td>no</td>\n",
       "      <td>yes</td>\n",
       "      <td>no</td>\n",
       "      <td>telephone</td>\n",
       "      <td>may</td>\n",
       "      <td>mon</td>\n",
       "      <td>...</td>\n",
       "      <td>1</td>\n",
       "      <td>999</td>\n",
       "      <td>0</td>\n",
       "      <td>nonexistent</td>\n",
       "      <td>1.1</td>\n",
       "      <td>93.994</td>\n",
       "      <td>-36.4</td>\n",
       "      <td>4.857</td>\n",
       "      <td>5191.0</td>\n",
       "      <td>no</td>\n",
       "    </tr>\n",
       "    <tr>\n",
       "      <th>3</th>\n",
       "      <td>40</td>\n",
       "      <td>admin.</td>\n",
       "      <td>married</td>\n",
       "      <td>basic.6y</td>\n",
       "      <td>no</td>\n",
       "      <td>no</td>\n",
       "      <td>no</td>\n",
       "      <td>telephone</td>\n",
       "      <td>may</td>\n",
       "      <td>mon</td>\n",
       "      <td>...</td>\n",
       "      <td>1</td>\n",
       "      <td>999</td>\n",
       "      <td>0</td>\n",
       "      <td>nonexistent</td>\n",
       "      <td>1.1</td>\n",
       "      <td>93.994</td>\n",
       "      <td>-36.4</td>\n",
       "      <td>4.857</td>\n",
       "      <td>5191.0</td>\n",
       "      <td>no</td>\n",
       "    </tr>\n",
       "    <tr>\n",
       "      <th>4</th>\n",
       "      <td>56</td>\n",
       "      <td>services</td>\n",
       "      <td>married</td>\n",
       "      <td>high.school</td>\n",
       "      <td>no</td>\n",
       "      <td>no</td>\n",
       "      <td>yes</td>\n",
       "      <td>telephone</td>\n",
       "      <td>may</td>\n",
       "      <td>mon</td>\n",
       "      <td>...</td>\n",
       "      <td>1</td>\n",
       "      <td>999</td>\n",
       "      <td>0</td>\n",
       "      <td>nonexistent</td>\n",
       "      <td>1.1</td>\n",
       "      <td>93.994</td>\n",
       "      <td>-36.4</td>\n",
       "      <td>4.857</td>\n",
       "      <td>5191.0</td>\n",
       "      <td>no</td>\n",
       "    </tr>\n",
       "  </tbody>\n",
       "</table>\n",
       "<p>5 rows × 21 columns</p>\n",
       "</div>"
      ],
      "text/plain": [
       "   age        job  marital    education  default housing loan    contact  \\\n",
       "0   56  housemaid  married     basic.4y       no      no   no  telephone   \n",
       "1   57   services  married  high.school  unknown      no   no  telephone   \n",
       "2   37   services  married  high.school       no     yes   no  telephone   \n",
       "3   40     admin.  married     basic.6y       no      no   no  telephone   \n",
       "4   56   services  married  high.school       no      no  yes  telephone   \n",
       "\n",
       "  month day_of_week  ...  campaign  pdays  previous     poutcome emp.var.rate  \\\n",
       "0   may         mon  ...         1    999         0  nonexistent          1.1   \n",
       "1   may         mon  ...         1    999         0  nonexistent          1.1   \n",
       "2   may         mon  ...         1    999         0  nonexistent          1.1   \n",
       "3   may         mon  ...         1    999         0  nonexistent          1.1   \n",
       "4   may         mon  ...         1    999         0  nonexistent          1.1   \n",
       "\n",
       "   cons.price.idx  cons.conf.idx  euribor3m  nr.employed   y  \n",
       "0          93.994          -36.4      4.857       5191.0  no  \n",
       "1          93.994          -36.4      4.857       5191.0  no  \n",
       "2          93.994          -36.4      4.857       5191.0  no  \n",
       "3          93.994          -36.4      4.857       5191.0  no  \n",
       "4          93.994          -36.4      4.857       5191.0  no  \n",
       "\n",
       "[5 rows x 21 columns]"
      ]
     },
     "execution_count": 3,
     "metadata": {},
     "output_type": "execute_result"
    }
   ],
   "source": [
    "bank = pd.read_csv('./input/bank-additional-full.csv', sep = ';')\n",
    "#Converting dependent variable categorical to dummy\n",
    "# y = pd.get_dummies(bank['y'], columns = ['y'], prefix = ['y'], drop_first = True)\n",
    "bank.head()"
   ]
  },
  {
   "cell_type": "code",
   "execution_count": 4,
   "metadata": {},
   "outputs": [],
   "source": [
    "# Converting dependent variable categorical to dummy\n",
    "y = pd.get_dummies(bank['y'], columns = ['y'], prefix = ['y'], drop_first = True)"
   ]
  },
  {
   "cell_type": "code",
   "execution_count": 6,
   "metadata": {},
   "outputs": [
    {
     "name": "stdout",
     "output_type": "stream",
     "text": [
      "<class 'pandas.core.frame.DataFrame'>\n",
      "RangeIndex: 41188 entries, 0 to 41187\n",
      "Data columns (total 21 columns):\n",
      "age               41188 non-null int64\n",
      "job               41188 non-null object\n",
      "marital           41188 non-null object\n",
      "education         41188 non-null object\n",
      "default           41188 non-null object\n",
      "housing           41188 non-null object\n",
      "loan              41188 non-null object\n",
      "contact           41188 non-null object\n",
      "month             41188 non-null object\n",
      "day_of_week       41188 non-null object\n",
      "duration          41188 non-null int64\n",
      "campaign          41188 non-null int64\n",
      "pdays             41188 non-null int64\n",
      "previous          41188 non-null int64\n",
      "poutcome          41188 non-null object\n",
      "emp.var.rate      41188 non-null float64\n",
      "cons.price.idx    41188 non-null float64\n",
      "cons.conf.idx     41188 non-null float64\n",
      "euribor3m         41188 non-null float64\n",
      "nr.employed       41188 non-null float64\n",
      "y                 41188 non-null object\n",
      "dtypes: float64(5), int64(5), object(11)\n",
      "memory usage: 6.6+ MB\n"
     ]
    }
   ],
   "source": [
    "# take a look at the type, number of columns, entries, null values etc..\n",
    "bank.info()\n",
    "# bank.isnull().any() # one way to search for null values"
   ]
  },
  {
   "cell_type": "code",
   "execution_count": 7,
   "metadata": {},
   "outputs": [
    {
     "data": {
      "text/plain": [
       "Index(['age', 'job', 'marital', 'education', 'default', 'housing', 'loan',\n",
       "       'contact', 'month', 'day_of_week', 'duration', 'campaign', 'pdays',\n",
       "       'previous', 'poutcome', 'emp.var.rate', 'cons.price.idx',\n",
       "       'cons.conf.idx', 'euribor3m', 'nr.employed', 'y'],\n",
       "      dtype='object')"
      ]
     },
     "execution_count": 7,
     "metadata": {},
     "output_type": "execute_result"
    }
   ],
   "source": [
    "bank.columns"
   ]
  },
  {
   "cell_type": "code",
   "execution_count": 8,
   "metadata": {},
   "outputs": [
    {
     "data": {
      "text/html": [
       "<div>\n",
       "<style scoped>\n",
       "    .dataframe tbody tr th:only-of-type {\n",
       "        vertical-align: middle;\n",
       "    }\n",
       "\n",
       "    .dataframe tbody tr th {\n",
       "        vertical-align: top;\n",
       "    }\n",
       "\n",
       "    .dataframe thead th {\n",
       "        text-align: right;\n",
       "    }\n",
       "</style>\n",
       "<table border=\"1\" class=\"dataframe\">\n",
       "  <thead>\n",
       "    <tr style=\"text-align: right;\">\n",
       "      <th></th>\n",
       "      <th>age</th>\n",
       "      <th>job</th>\n",
       "      <th>marital</th>\n",
       "      <th>education</th>\n",
       "      <th>default</th>\n",
       "      <th>housing</th>\n",
       "      <th>loan</th>\n",
       "    </tr>\n",
       "  </thead>\n",
       "  <tbody>\n",
       "    <tr>\n",
       "      <th>0</th>\n",
       "      <td>56</td>\n",
       "      <td>housemaid</td>\n",
       "      <td>married</td>\n",
       "      <td>basic.4y</td>\n",
       "      <td>no</td>\n",
       "      <td>no</td>\n",
       "      <td>no</td>\n",
       "    </tr>\n",
       "    <tr>\n",
       "      <th>1</th>\n",
       "      <td>57</td>\n",
       "      <td>services</td>\n",
       "      <td>married</td>\n",
       "      <td>high.school</td>\n",
       "      <td>unknown</td>\n",
       "      <td>no</td>\n",
       "      <td>no</td>\n",
       "    </tr>\n",
       "    <tr>\n",
       "      <th>2</th>\n",
       "      <td>37</td>\n",
       "      <td>services</td>\n",
       "      <td>married</td>\n",
       "      <td>high.school</td>\n",
       "      <td>no</td>\n",
       "      <td>yes</td>\n",
       "      <td>no</td>\n",
       "    </tr>\n",
       "    <tr>\n",
       "      <th>3</th>\n",
       "      <td>40</td>\n",
       "      <td>admin.</td>\n",
       "      <td>married</td>\n",
       "      <td>basic.6y</td>\n",
       "      <td>no</td>\n",
       "      <td>no</td>\n",
       "      <td>no</td>\n",
       "    </tr>\n",
       "    <tr>\n",
       "      <th>4</th>\n",
       "      <td>56</td>\n",
       "      <td>services</td>\n",
       "      <td>married</td>\n",
       "      <td>high.school</td>\n",
       "      <td>no</td>\n",
       "      <td>no</td>\n",
       "      <td>yes</td>\n",
       "    </tr>\n",
       "  </tbody>\n",
       "</table>\n",
       "</div>"
      ],
      "text/plain": [
       "   age        job  marital    education  default housing loan\n",
       "0   56  housemaid  married     basic.4y       no      no   no\n",
       "1   57   services  married  high.school  unknown      no   no\n",
       "2   37   services  married  high.school       no     yes   no\n",
       "3   40     admin.  married     basic.6y       no      no   no\n",
       "4   56   services  married  high.school       no      no  yes"
      ]
     },
     "execution_count": 8,
     "metadata": {},
     "output_type": "execute_result"
    }
   ],
   "source": [
    "# 1. Bank client data Analysis and Categorical Treatment\n",
    "# Work with the atributes related to bank clients\n",
    "# To make things more clear, i'm going to create a new datasets that contains just this part of data\n",
    "bank_client = bank.iloc[: , 0:7]\n",
    "bank_client.head()"
   ]
  },
  {
   "cell_type": "code",
   "execution_count": 9,
   "metadata": {},
   "outputs": [
    {
     "name": "stdout",
     "output_type": "stream",
     "text": [
      "Jobs:\n",
      " ['housemaid' 'services' 'admin.' 'blue-collar' 'technician' 'retired'\n",
      " 'management' 'unemployed' 'self-employed' 'unknown' 'entrepreneur'\n",
      " 'student']\n",
      "Marital:\n",
      " ['married' 'single' 'divorced' 'unknown']\n",
      "Education:\n",
      " ['basic.4y' 'high.school' 'basic.6y' 'basic.9y' 'professional.course'\n",
      " 'unknown' 'university.degree' 'illiterate']\n",
      "Default:\n",
      " ['no' 'unknown' 'yes']\n",
      "Housing:\n",
      " ['no' 'yes' 'unknown']\n",
      "Loan:\n",
      " ['no' 'yes' 'unknown']\n"
     ]
    }
   ],
   "source": [
    "# Knowing the categorical variables\n",
    "print('Jobs:\\n', bank_client['job'].unique())\n",
    "print('Marital:\\n', bank_client['marital'].unique())\n",
    "print('Education:\\n', bank_client['education'].unique())\n",
    "print('Default:\\n', bank_client['default'].unique())\n",
    "print('Housing:\\n', bank_client['housing'].unique())\n",
    "print('Loan:\\n', bank_client['loan'].unique())"
   ]
  },
  {
   "cell_type": "code",
   "execution_count": 10,
   "metadata": {},
   "outputs": [
    {
     "name": "stdout",
     "output_type": "stream",
     "text": [
      "Max age:  98\n",
      "Min age:  17\n",
      "Null Values:  False\n"
     ]
    }
   ],
   "source": [
    "# Age - trying to find some insights crossing those variables\n",
    "# Trying to find some strange values or null values\n",
    "print('Max age: ', bank_client['age'].max())\n",
    "print('Min age: ', bank_client['age'].min())\n",
    "print('Null Values: ', bank_client['age'].isnull().any())"
   ]
  },
  {
   "cell_type": "code",
   "execution_count": 11,
   "metadata": {},
   "outputs": [
    {
     "data": {
      "image/png": "[encoded data removed]",
      "text/plain": [
       "<Figure size 1440x576 with 1 Axes>"
      ]
     },
     "metadata": {},
     "output_type": "display_data"
    }
   ],
   "source": [
    "fig, ax = plt.subplots()\n",
    "fig.set_size_inches(20, 8)\n",
    "sns.countplot(x = 'age', data = bank_client)\n",
    "ax.set_xlabel('Age', fontsize=15)\n",
    "ax.set_ylabel('Count', fontsize=15)\n",
    "ax.set_title('Age Count Distribution', fontsize=15)\n",
    "sns.despine()"
   ]
  },
  {
   "cell_type": "code",
   "execution_count": 12,
   "metadata": {},
   "outputs": [
    {
     "data": {
      "image/png": "[encoded data removed]",
      "text/plain": [
       "<Figure size 936x360 with 2 Axes>"
      ]
     },
     "metadata": {},
     "output_type": "display_data"
    }
   ],
   "source": [
    "fig, (ax1, ax2) = plt.subplots(nrows = 1, ncols = 2, figsize = (13, 5))\n",
    "sns.boxplot(x = 'age', data = bank_client, orient = 'v', ax = ax1)\n",
    "ax1.set_xlabel('People Age', fontsize=15)\n",
    "ax1.set_ylabel('Age', fontsize=15)\n",
    "ax1.set_title('Age Distribution', fontsize=15)\n",
    "ax1.tick_params(labelsize=15)\n",
    "\n",
    "sns.distplot(bank_client['age'], ax = ax2)\n",
    "sns.despine(ax = ax2)\n",
    "ax2.set_xlabel('Age', fontsize=15)\n",
    "ax2.set_ylabel('Occurence', fontsize=15)\n",
    "ax2.set_title('Age x Occurance', fontsize=15)\n",
    "ax2.tick_params(labelsize=15)\n",
    "\n",
    "plt.subplots_adjust(wspace=0.5)\n",
    "plt.tight_layout() "
   ]
  },
  {
   "cell_type": "code",
   "execution_count": 13,
   "metadata": {},
   "outputs": [
    {
     "name": "stdout",
     "output_type": "stream",
     "text": [
      "1º Quartile:  32.0\n",
      "2º Quartile:  38.0\n",
      "3º Quartile:  47.0\n",
      "4º Quartile:  98.0\n",
      "Ages above:  69.5 are outliers\n"
     ]
    }
   ],
   "source": [
    "print('1º Quartile: ', bank_client['age'].quantile(q = 0.25))\n",
    "print('2º Quartile: ', bank_client['age'].quantile(q = 0.50))\n",
    "print('3º Quartile: ', bank_client['age'].quantile(q = 0.75))\n",
    "print('4º Quartile: ', bank_client['age'].quantile(q = 1.00))\n",
    "#Calculate the outliers:\n",
    "  # Interquartile range, IQR = Q3 - Q1\n",
    "  # lower 1.5*IQR whisker = Q1 - 1.5 * IQR \n",
    "  # Upper 1.5*IQR whisker = Q3 + 1.5 * IQR\n",
    "    \n",
    "print('Ages above: ', bank_client['age'].quantile(q = 0.75) + \n",
    "                      1.5*(bank_client['age'].quantile(q = 0.75) - bank_client['age'].quantile(q = 0.25)), 'are outliers')"
   ]
  },
  {
   "cell_type": "code",
   "execution_count": 14,
   "metadata": {},
   "outputs": [
    {
     "name": "stdout",
     "output_type": "stream",
     "text": [
      "Numerber of outliers:  469\n",
      "Number of clients:  41188\n",
      "Outliers are: 1.14 %\n"
     ]
    }
   ],
   "source": [
    "print('Numerber of outliers: ', bank_client[bank_client['age'] > 69.6]['age'].count())\n",
    "print('Number of clients: ', len(bank_client))\n",
    "#Outliers in %\n",
    "print('Outliers are:', round(bank_client[bank_client['age'] > 69.6]['age'].count()*100/len(bank_client),2), '%')"
   ]
  },
  {
   "cell_type": "code",
   "execution_count": 15,
   "metadata": {},
   "outputs": [
    {
     "name": "stdout",
     "output_type": "stream",
     "text": [
      "MEAN: 40.0\n",
      "STD : 10.4\n",
      "CV  : 26.0 , High middle dispersion\n"
     ]
    }
   ],
   "source": [
    "# Calculating some values to evaluate this independent variable\n",
    "print('MEAN:', round(bank_client['age'].mean(), 1))\n",
    "# A low standard deviation indicates that the data points tend to be close to the mean or expected value\n",
    "# A high standard deviation indicates that the data points are scattered\n",
    "print('STD :', round(bank_client['age'].std(), 1))\n",
    "# I think the best way to give a precise insight about dispersion is using the CV (coefficient variation) (STD/MEAN)*100\n",
    "#    cv < 15%, low dispersion\n",
    "#    cv > 30%, high dispersion\n",
    "print('CV  :',round(bank_client['age'].std()*100/bank_client['age'].mean(), 1), ', High middle dispersion')\n",
    "\n",
    "# Conclusion about AGE, in my opinion due to almost high dispersion and just looking at this this graph we cannot conclude \n",
    "# if age have a high effect to our variable y, need to keep searching for some pattern. \n",
    "# High middle dispersion means we have people with all ages and maybe all of them can subscript a term deposit, or not. \n",
    "# The outliers was calculated, so my thinking is fit the model with and without them"
   ]
  },
  {
   "cell_type": "code",
   "execution_count": 16,
   "metadata": {},
   "outputs": [
    {
     "data": {
      "image/png": "[encoded data removed]",
      "text/plain": [
       "<Figure size 1440x576 with 1 Axes>"
      ]
     },
     "metadata": {},
     "output_type": "display_data"
    }
   ],
   "source": [
    "# Jobs - What kind of jobs clients of this bank have, if you cross jobs with default, loan or housing, there is no relation\n",
    "fig, ax = plt.subplots()\n",
    "fig.set_size_inches(20, 8)\n",
    "sns.countplot(x = 'job', data = bank_client)\n",
    "ax.set_xlabel('Job', fontsize=15)\n",
    "ax.set_ylabel('Count', fontsize=15)\n",
    "ax.set_title('Age Count Distribution', fontsize=15)\n",
    "ax.tick_params(labelsize=15)\n",
    "sns.despine()"
   ]
  },
  {
   "cell_type": "code",
   "execution_count": 17,
   "metadata": {},
   "outputs": [
    {
     "data": {
      "image/png": "[encoded data removed]",
      "text/plain": [
       "<Figure size 720x360 with 1 Axes>"
      ]
     },
     "metadata": {},
     "output_type": "display_data"
    }
   ],
   "source": [
    "# Marital - What kind of 'marital clients' this bank have, if you cross marital with default, loan or housing, there is no relation\n",
    "fig, ax = plt.subplots()\n",
    "fig.set_size_inches(10, 5)\n",
    "sns.countplot(x = 'marital', data = bank_client)\n",
    "ax.set_xlabel('Marital', fontsize=15)\n",
    "ax.set_ylabel('Count', fontsize=15)\n",
    "ax.set_title('Age Count Distribution', fontsize=15)\n",
    "ax.tick_params(labelsize=15)\n",
    "sns.despine()"
   ]
  },
  {
   "cell_type": "code",
   "execution_count": 18,
   "metadata": {},
   "outputs": [
    {
     "data": {
      "image/png": "[encoded data removed]",
      "text/plain": [
       "<Figure size 1440x360 with 1 Axes>"
      ]
     },
     "metadata": {},
     "output_type": "display_data"
    }
   ],
   "source": [
    "# Education - What kind of 'education clients this bank have, if you cross education with default, loan or housing, there is no relation\n",
    "fig, ax = plt.subplots()\n",
    "fig.set_size_inches(20, 5)\n",
    "sns.countplot(x = 'education', data = bank_client)\n",
    "ax.set_xlabel('Education', fontsize=15)\n",
    "ax.set_ylabel('Count', fontsize=15)\n",
    "ax.set_title('Education Count Distribution', fontsize=15)\n",
    "ax.tick_params(labelsize=15)\n",
    "sns.despine()"
   ]
  },
  {
   "cell_type": "code",
   "execution_count": 19,
   "metadata": {},
   "outputs": [
    {
     "data": {
      "image/png": "[encoded data removed]",
      "text/plain": [
       "<Figure size 1440x576 with 3 Axes>"
      ]
     },
     "metadata": {},
     "output_type": "display_data"
    }
   ],
   "source": [
    "# Default, Housing, Loan\n",
    "# Default, has credit in default ?\n",
    "fig, (ax1, ax2, ax3) = plt.subplots(nrows = 1, ncols = 3, figsize = (20,8))\n",
    "sns.countplot(x = 'default', data = bank_client, ax = ax1, order = ['no', 'unknown', 'yes'])\n",
    "ax1.set_title('Default', fontsize=15)\n",
    "ax1.set_xlabel('')\n",
    "ax1.set_ylabel('Count', fontsize=15)\n",
    "ax1.tick_params(labelsize=15)\n",
    "\n",
    "# Housing, has housing loan ?\n",
    "sns.countplot(x = 'housing', data = bank_client, ax = ax2, order = ['no', 'unknown', 'yes'])\n",
    "ax2.set_title('Housing', fontsize=15)\n",
    "ax2.set_xlabel('')\n",
    "ax2.set_ylabel('Count', fontsize=15)\n",
    "ax2.tick_params(labelsize=15)\n",
    "\n",
    "# Loan, has personal loan ?\n",
    "sns.countplot(x = 'loan', data = bank_client, ax = ax3, order = ['no', 'unknown', 'yes'])\n",
    "ax3.set_title('Loan', fontsize=15)\n",
    "ax3.set_xlabel('')\n",
    "ax3.set_ylabel('Count', fontsize=15)\n",
    "ax3.tick_params(labelsize=15)\n",
    "\n",
    "plt.subplots_adjust(wspace=0.25)"
   ]
  },
  {
   "cell_type": "code",
   "execution_count": 20,
   "metadata": {},
   "outputs": [
    {
     "name": "stdout",
     "output_type": "stream",
     "text": [
      "Default:\n",
      " No credit in default: 32588 \n",
      " Unknown credit in default: 8597 \n",
      " Yes to credit in default: 3\n"
     ]
    }
   ],
   "source": [
    "print('Default:\\n No credit in default:'     , bank_client[bank_client['default'] == 'no']     ['age'].count(),\n",
    "              '\\n Unknown credit in default:', bank_client[bank_client['default'] == 'unknown']['age'].count(),\n",
    "              '\\n Yes to credit in default:' , bank_client[bank_client['default'] == 'yes']    ['age'].count())"
   ]
  },
  {
   "cell_type": "code",
   "execution_count": 21,
   "metadata": {},
   "outputs": [
    {
     "name": "stdout",
     "output_type": "stream",
     "text": [
      "Housing:\n",
      " No housing in loan: 18622 \n",
      " Unknown housing in loan: 990 \n",
      " Yes to housing in loan: 21576\n"
     ]
    }
   ],
   "source": [
    "print('Housing:\\n No housing in loan:'     , bank_client[bank_client['housing'] == 'no']     ['age'].count(),\n",
    "              '\\n Unknown housing in loan:', bank_client[bank_client['housing'] == 'unknown']['age'].count(),\n",
    "              '\\n Yes to housing in loan:' , bank_client[bank_client['housing'] == 'yes']    ['age'].count())"
   ]
  },
  {
   "cell_type": "code",
   "execution_count": 22,
   "metadata": {},
   "outputs": [
    {
     "name": "stdout",
     "output_type": "stream",
     "text": [
      "Housing:\n",
      " No to personal loan: 33950 \n",
      " Unknown to personal loan: 990 \n",
      " Yes to personal loan: 6248\n"
     ]
    }
   ],
   "source": [
    "print('Housing:\\n No to personal loan:'     , bank_client[bank_client['loan'] == 'no']     ['age'].count(),\n",
    "              '\\n Unknown to personal loan:', bank_client[bank_client['loan'] == 'unknown']['age'].count(),\n",
    "              '\\n Yes to personal loan:'    , bank_client[bank_client['loan'] == 'yes']    ['age'].count())"
   ]
  },
  {
   "cell_type": "code",
   "execution_count": 23,
   "metadata": {},
   "outputs": [],
   "source": [
    "# Conclusions so far\n",
    "# 1. The ages dont mean too much, has a medium dispersion and dont make sense relate with other variables will not tell any insight\n",
    "# 2. Jobs, Marital and Education i think the best analysis is just the count of each variable, \n",
    "# if we related with the other ones its is not conclusive, \n",
    "# all this kind of variables has yes, unknown and no for loan, default and housing.\n",
    "# 3, Default, loan and housing, its just to see the distribution of people.\n"
   ]
  },
  {
   "cell_type": "code",
   "execution_count": 24,
   "metadata": {},
   "outputs": [],
   "source": [
    "# Bank client categorical treatment\n",
    "# Jobs, Marital, Education, Default, Housing, Loan. Converting to continuous due the feature scaling will be applied later\n",
    "# Label encoder order is alphabetical\n",
    "from sklearn.preprocessing import LabelEncoder\n",
    "labelencoder_X = LabelEncoder()\n",
    "bank_client['job']      = labelencoder_X.fit_transform(bank_client['job']) \n",
    "bank_client['marital']  = labelencoder_X.fit_transform(bank_client['marital']) \n",
    "bank_client['education']= labelencoder_X.fit_transform(bank_client['education']) \n",
    "bank_client['default']  = labelencoder_X.fit_transform(bank_client['default']) \n",
    "bank_client['housing']  = labelencoder_X.fit_transform(bank_client['housing']) \n",
    "bank_client['loan']     = labelencoder_X.fit_transform(bank_client['loan']) "
   ]
  },
  {
   "cell_type": "code",
   "execution_count": 25,
   "metadata": {},
   "outputs": [],
   "source": [
    "#function to create group of ages, this helps because we have 78 different values here\n",
    "def age(dataframe):\n",
    "    dataframe.loc[dataframe['age'] <= 32, 'age'] = 1\n",
    "    dataframe.loc[(dataframe['age'] > 32) & (dataframe['age'] <= 47), 'age'] = 2\n",
    "    dataframe.loc[(dataframe['age'] > 47) & (dataframe['age'] <= 70), 'age'] = 3\n",
    "    dataframe.loc[(dataframe['age'] > 70) & (dataframe['age'] <= 98), 'age'] = 4\n",
    "           \n",
    "    return dataframe\n",
    "\n",
    "age(bank_client);"
   ]
  },
  {
   "cell_type": "code",
   "execution_count": 26,
   "metadata": {},
   "outputs": [],
   "source": [
    "# Manual way to convert Categorical in Continuous\n",
    "\n",
    "# bank_client['job'].replace(['housemaid' , 'services' , 'admin.' , 'blue-collar' , 'technician', 'retired' , 'management', 'unemployed', 'self-employed', 'unknown' , 'entrepreneur', 'student'] , [1, 2, 3, 4, 5, 6, 7, 8, 9, 10, 11, 12], inplace=True)\n",
    "# bank_client['education'].replace(['basic.4y' , 'high.school', 'basic.6y', 'basic.9y', 'professional.course', 'unknown' , 'university.degree' , 'illiterate'], [1, 2, 3, 4, 5, 6, 7, 8], inplace=True)\n",
    "# bank_client['marital'].replace(['married', 'single', 'divorced', 'unknown'], [1, 2, 3, 4], inplace=True)\n",
    "# bank_client['default'].replace(['yes', 'no', 'unknown'],[1, 2, 3], inplace=True)\n",
    "# bank_client['housing'].replace(['yes', 'no', 'unknown'],[1, 2, 3], inplace=True)\n",
    "# bank_client['loan'].replace(['yes', 'no', 'unknown'],[1, 2, 3], inplace=True)\n",
    "\n",
    "# A way to Converting Categorical variables using dummies if you judge necessary\n",
    "# bank_client = pd.get_dummies(data = bank_client, columns = ['job'] , prefix = ['job'] , drop_first = True)\n",
    "# bank_client = pd.get_dummies(data = bank_client, columns = ['marital'] , prefix = ['marital'] , drop_first = True)\n",
    "# bank_client = pd.get_dummies(data = bank_client, columns = ['education'], prefix = ['education'], drop_first = True)\n",
    "# bank_client = pd.get_dummies(data = bank_client, columns = ['default'] , prefix = ['default'] , drop_first = True)\n",
    "# bank_client = pd.get_dummies(data = bank_client, columns = ['housing'] , prefix = ['housing'] , drop_first = True)\n",
    "# bank_client = pd.get_dummies(data = bank_client, columns = ['loan'] , prefix = ['loan'] , drop_first = True)"
   ]
  },
  {
   "cell_type": "code",
   "execution_count": 27,
   "metadata": {},
   "outputs": [
    {
     "data": {
      "text/html": [
       "<div>\n",
       "<style scoped>\n",
       "    .dataframe tbody tr th:only-of-type {\n",
       "        vertical-align: middle;\n",
       "    }\n",
       "\n",
       "    .dataframe tbody tr th {\n",
       "        vertical-align: top;\n",
       "    }\n",
       "\n",
       "    .dataframe thead th {\n",
       "        text-align: right;\n",
       "    }\n",
       "</style>\n",
       "<table border=\"1\" class=\"dataframe\">\n",
       "  <thead>\n",
       "    <tr style=\"text-align: right;\">\n",
       "      <th></th>\n",
       "      <th>contact</th>\n",
       "      <th>month</th>\n",
       "      <th>day_of_week</th>\n",
       "      <th>duration</th>\n",
       "    </tr>\n",
       "  </thead>\n",
       "  <tbody>\n",
       "    <tr>\n",
       "      <th>0</th>\n",
       "      <td>telephone</td>\n",
       "      <td>may</td>\n",
       "      <td>mon</td>\n",
       "      <td>261</td>\n",
       "    </tr>\n",
       "    <tr>\n",
       "      <th>1</th>\n",
       "      <td>telephone</td>\n",
       "      <td>may</td>\n",
       "      <td>mon</td>\n",
       "      <td>149</td>\n",
       "    </tr>\n",
       "    <tr>\n",
       "      <th>2</th>\n",
       "      <td>telephone</td>\n",
       "      <td>may</td>\n",
       "      <td>mon</td>\n",
       "      <td>226</td>\n",
       "    </tr>\n",
       "    <tr>\n",
       "      <th>3</th>\n",
       "      <td>telephone</td>\n",
       "      <td>may</td>\n",
       "      <td>mon</td>\n",
       "      <td>151</td>\n",
       "    </tr>\n",
       "    <tr>\n",
       "      <th>4</th>\n",
       "      <td>telephone</td>\n",
       "      <td>may</td>\n",
       "      <td>mon</td>\n",
       "      <td>307</td>\n",
       "    </tr>\n",
       "  </tbody>\n",
       "</table>\n",
       "</div>"
      ],
      "text/plain": [
       "     contact month day_of_week  duration\n",
       "0  telephone   may         mon       261\n",
       "1  telephone   may         mon       149\n",
       "2  telephone   may         mon       226\n",
       "3  telephone   may         mon       151\n",
       "4  telephone   may         mon       307"
      ]
     },
     "execution_count": 27,
     "metadata": {},
     "output_type": "execute_result"
    }
   ],
   "source": [
    "# Related with the last contact of the current campaign\n",
    "# Treat categorical, see those values\n",
    "# group continuous variables if necessary\n",
    "# Slicing DataFrame to treat separately, make things more easy\n",
    "bank_related = bank.iloc[: , 7:11]\n",
    "bank_related.head()"
   ]
  },
  {
   "cell_type": "code",
   "execution_count": 28,
   "metadata": {},
   "outputs": [
    {
     "data": {
      "text/plain": [
       "contact        False\n",
       "month          False\n",
       "day_of_week    False\n",
       "duration       False\n",
       "dtype: bool"
      ]
     },
     "execution_count": 28,
     "metadata": {},
     "output_type": "execute_result"
    }
   ],
   "source": [
    "bank_related.isnull().any()"
   ]
  },
  {
   "cell_type": "code",
   "execution_count": 29,
   "metadata": {},
   "outputs": [
    {
     "name": "stdout",
     "output_type": "stream",
     "text": [
      "Kind of Contact: \n",
      " ['telephone' 'cellular']\n",
      "\n",
      "Which month is this campaing work: \n",
      " ['may' 'jun' 'jul' 'aug' 'oct' 'nov' 'dec' 'mar' 'apr' 'sep']\n",
      "\n",
      "Which days of week this campaing work: \n",
      " ['mon' 'tue' 'wed' 'thu' 'fri']\n"
     ]
    }
   ],
   "source": [
    "print(\"Kind of Contact: \\n\", bank_related['contact'].unique())\n",
    "print(\"\\nWhich month is this campaing work: \\n\", bank_related['month'].unique())\n",
    "print(\"\\nWhich days of week this campaing work: \\n\", bank_related['day_of_week'].unique())"
   ]
  },
  {
   "cell_type": "code",
   "execution_count": 30,
   "metadata": {},
   "outputs": [
    {
     "data": {
      "image/png": "[encoded data removed]",
      "text/plain": [
       "<Figure size 936x360 with 2 Axes>"
      ]
     },
     "metadata": {},
     "output_type": "display_data"
    }
   ],
   "source": [
    "# Duration\n",
    "fig, (ax1, ax2) = plt.subplots(nrows = 1, ncols = 2, figsize = (13, 5))\n",
    "sns.boxplot(x = 'duration', data = bank_related, orient = 'v', ax = ax1)\n",
    "ax1.set_xlabel('Calls', fontsize=10)\n",
    "ax1.set_ylabel('Duration', fontsize=10)\n",
    "ax1.set_title('Calls Distribution', fontsize=10)\n",
    "ax1.tick_params(labelsize=10)\n",
    "\n",
    "sns.distplot(bank_related['duration'], ax = ax2)\n",
    "sns.despine(ax = ax2)\n",
    "ax2.set_xlabel('Duration Calls', fontsize=10)\n",
    "ax2.set_ylabel('Occurence', fontsize=10)\n",
    "ax2.set_title('Duration x Ocucurence', fontsize=10)\n",
    "ax2.tick_params(labelsize=10)\n",
    "\n",
    "plt.subplots_adjust(wspace=0.5)\n",
    "plt.tight_layout()\n",
    "\n",
    "# Note : duration is different from age, Age has 78 values and Duration has 1544 different values"
   ]
  },
  {
   "cell_type": "code",
   "execution_count": 31,
   "metadata": {},
   "outputs": [
    {
     "name": "stdout",
     "output_type": "stream",
     "text": [
      "Max duration  call in minutes:   82.0\n",
      "Min duration  call in minutes:    0.0\n",
      "Mean duration call in minutes:    4.3\n",
      "STD duration  call in minutes:    4.3\n"
     ]
    }
   ],
   "source": [
    "print(\"Max duration  call in minutes:  \", round((bank_related['duration'].max()/60),1))\n",
    "print(\"Min duration  call in minutes:   \", round((bank_related['duration'].min()/60),1))\n",
    "print(\"Mean duration call in minutes:   \", round((bank_related['duration'].mean()/60),1))\n",
    "print(\"STD duration  call in minutes:   \", round((bank_related['duration'].std()/60),1))\n",
    "# Std close to the mean means that the data values are close to the mean "
   ]
  },
  {
   "cell_type": "code",
   "execution_count": 32,
   "metadata": {},
   "outputs": [
    {
     "name": "stdout",
     "output_type": "stream",
     "text": [
      "1º Quartile:  102.0\n",
      "2º Quartile:  180.0\n",
      "3º Quartile:  319.0\n",
      "4º Quartile:  4918.0\n",
      "Duration calls above:  644.5 are outliers\n"
     ]
    }
   ],
   "source": [
    "# Quartiles\n",
    "print('1º Quartile: ', bank_related['duration'].quantile(q = 0.25))\n",
    "print('2º Quartile: ', bank_related['duration'].quantile(q = 0.50))\n",
    "print('3º Quartile: ', bank_related['duration'].quantile(q = 0.75))\n",
    "print('4º Quartile: ', bank_related['duration'].quantile(q = 1.00))\n",
    "#Calculate the outliers:\n",
    "  # Interquartile range, IQR = Q3 - Q1\n",
    "  # lower 1.5*IQR whisker = Q1 - 1.5 * IQR \n",
    "  # Upper 1.5*IQR whisker = Q3 + 1.5 * IQR\n",
    "    \n",
    "print('Duration calls above: ', bank_related['duration'].quantile(q = 0.75) + \n",
    "                      1.5*(bank_related['duration'].quantile(q = 0.75) - bank_related['duration'].quantile(q = 0.25)), 'are outliers')"
   ]
  },
  {
   "cell_type": "code",
   "execution_count": 33,
   "metadata": {},
   "outputs": [
    {
     "name": "stdout",
     "output_type": "stream",
     "text": [
      "Number of outliers:  2963\n",
      "Number of clients:  41188\n",
      "Outliers are: 7.19 %\n"
     ]
    }
   ],
   "source": [
    "print('Number of outliers: ', bank_related[bank_related['duration'] > 644.5]['duration'].count())\n",
    "print('Number of clients: ', len(bank_related))\n",
    "#Outliers in %\n",
    "print('Outliers are:', round(bank_related[bank_related['duration'] > 644.5]['duration'].count()*100/len(bank_related),2), '%')"
   ]
  },
  {
   "cell_type": "code",
   "execution_count": 34,
   "metadata": {},
   "outputs": [
    {
     "data": {
      "text/html": [
       "<div>\n",
       "<style scoped>\n",
       "    .dataframe tbody tr th:only-of-type {\n",
       "        vertical-align: middle;\n",
       "    }\n",
       "\n",
       "    .dataframe tbody tr th {\n",
       "        vertical-align: top;\n",
       "    }\n",
       "\n",
       "    .dataframe thead th {\n",
       "        text-align: right;\n",
       "    }\n",
       "</style>\n",
       "<table border=\"1\" class=\"dataframe\">\n",
       "  <thead>\n",
       "    <tr style=\"text-align: right;\">\n",
       "      <th></th>\n",
       "      <th>age</th>\n",
       "      <th>job</th>\n",
       "      <th>marital</th>\n",
       "      <th>education</th>\n",
       "      <th>default</th>\n",
       "      <th>housing</th>\n",
       "      <th>loan</th>\n",
       "      <th>contact</th>\n",
       "      <th>month</th>\n",
       "      <th>day_of_week</th>\n",
       "      <th>...</th>\n",
       "      <th>campaign</th>\n",
       "      <th>pdays</th>\n",
       "      <th>previous</th>\n",
       "      <th>poutcome</th>\n",
       "      <th>emp.var.rate</th>\n",
       "      <th>cons.price.idx</th>\n",
       "      <th>cons.conf.idx</th>\n",
       "      <th>euribor3m</th>\n",
       "      <th>nr.employed</th>\n",
       "      <th>y</th>\n",
       "    </tr>\n",
       "  </thead>\n",
       "  <tbody>\n",
       "    <tr>\n",
       "      <th>6251</th>\n",
       "      <td>39</td>\n",
       "      <td>admin.</td>\n",
       "      <td>married</td>\n",
       "      <td>high.school</td>\n",
       "      <td>no</td>\n",
       "      <td>yes</td>\n",
       "      <td>no</td>\n",
       "      <td>telephone</td>\n",
       "      <td>may</td>\n",
       "      <td>tue</td>\n",
       "      <td>...</td>\n",
       "      <td>4</td>\n",
       "      <td>999</td>\n",
       "      <td>0</td>\n",
       "      <td>nonexistent</td>\n",
       "      <td>1.1</td>\n",
       "      <td>93.994</td>\n",
       "      <td>-36.4</td>\n",
       "      <td>4.857</td>\n",
       "      <td>5191.0</td>\n",
       "      <td>no</td>\n",
       "    </tr>\n",
       "    <tr>\n",
       "      <th>23031</th>\n",
       "      <td>59</td>\n",
       "      <td>management</td>\n",
       "      <td>married</td>\n",
       "      <td>university.degree</td>\n",
       "      <td>no</td>\n",
       "      <td>yes</td>\n",
       "      <td>no</td>\n",
       "      <td>cellular</td>\n",
       "      <td>aug</td>\n",
       "      <td>tue</td>\n",
       "      <td>...</td>\n",
       "      <td>10</td>\n",
       "      <td>999</td>\n",
       "      <td>0</td>\n",
       "      <td>nonexistent</td>\n",
       "      <td>1.4</td>\n",
       "      <td>93.444</td>\n",
       "      <td>-36.1</td>\n",
       "      <td>4.965</td>\n",
       "      <td>5228.1</td>\n",
       "      <td>no</td>\n",
       "    </tr>\n",
       "    <tr>\n",
       "      <th>28063</th>\n",
       "      <td>53</td>\n",
       "      <td>blue-collar</td>\n",
       "      <td>divorced</td>\n",
       "      <td>high.school</td>\n",
       "      <td>no</td>\n",
       "      <td>yes</td>\n",
       "      <td>no</td>\n",
       "      <td>cellular</td>\n",
       "      <td>apr</td>\n",
       "      <td>fri</td>\n",
       "      <td>...</td>\n",
       "      <td>3</td>\n",
       "      <td>999</td>\n",
       "      <td>0</td>\n",
       "      <td>nonexistent</td>\n",
       "      <td>-1.8</td>\n",
       "      <td>93.075</td>\n",
       "      <td>-47.1</td>\n",
       "      <td>1.479</td>\n",
       "      <td>5099.1</td>\n",
       "      <td>no</td>\n",
       "    </tr>\n",
       "    <tr>\n",
       "      <th>33015</th>\n",
       "      <td>31</td>\n",
       "      <td>blue-collar</td>\n",
       "      <td>married</td>\n",
       "      <td>basic.9y</td>\n",
       "      <td>no</td>\n",
       "      <td>no</td>\n",
       "      <td>no</td>\n",
       "      <td>cellular</td>\n",
       "      <td>may</td>\n",
       "      <td>mon</td>\n",
       "      <td>...</td>\n",
       "      <td>2</td>\n",
       "      <td>999</td>\n",
       "      <td>0</td>\n",
       "      <td>nonexistent</td>\n",
       "      <td>-1.8</td>\n",
       "      <td>92.893</td>\n",
       "      <td>-46.2</td>\n",
       "      <td>1.299</td>\n",
       "      <td>5099.1</td>\n",
       "      <td>no</td>\n",
       "    </tr>\n",
       "  </tbody>\n",
       "</table>\n",
       "<p>4 rows × 21 columns</p>\n",
       "</div>"
      ],
      "text/plain": [
       "       age          job   marital          education default housing loan  \\\n",
       "6251    39       admin.   married        high.school      no     yes   no   \n",
       "23031   59   management   married  university.degree      no     yes   no   \n",
       "28063   53  blue-collar  divorced        high.school      no     yes   no   \n",
       "33015   31  blue-collar   married           basic.9y      no      no   no   \n",
       "\n",
       "         contact month day_of_week  ...  campaign  pdays  previous  \\\n",
       "6251   telephone   may         tue  ...         4    999         0   \n",
       "23031   cellular   aug         tue  ...        10    999         0   \n",
       "28063   cellular   apr         fri  ...         3    999         0   \n",
       "33015   cellular   may         mon  ...         2    999         0   \n",
       "\n",
       "          poutcome emp.var.rate  cons.price.idx  cons.conf.idx  euribor3m  \\\n",
       "6251   nonexistent          1.1          93.994          -36.4      4.857   \n",
       "23031  nonexistent          1.4          93.444          -36.1      4.965   \n",
       "28063  nonexistent         -1.8          93.075          -47.1      1.479   \n",
       "33015  nonexistent         -1.8          92.893          -46.2      1.299   \n",
       "\n",
       "       nr.employed   y  \n",
       "6251        5191.0  no  \n",
       "23031       5228.1  no  \n",
       "28063       5099.1  no  \n",
       "33015       5099.1  no  \n",
       "\n",
       "[4 rows x 21 columns]"
      ]
     },
     "execution_count": 34,
     "metadata": {},
     "output_type": "execute_result"
    }
   ],
   "source": [
    "# Look, if the call duration is equal to 0, then is obviously that this person didn't subscribe, \n",
    "# THIS LINES NEED TO BE DELETED LATER \n",
    "bank[(bank['duration'] == 0)]"
   ]
  },
  {
   "cell_type": "code",
   "execution_count": 35,
   "metadata": {},
   "outputs": [
    {
     "data": {
      "image/png": "[encoded data removed]",
      "text/plain": [
       "<Figure size 1080x432 with 3 Axes>"
      ]
     },
     "metadata": {},
     "output_type": "display_data"
    }
   ],
   "source": [
    "fig, (ax1, ax2, ax3) = plt.subplots(nrows = 1, ncols = 3, figsize = (15,6))\n",
    "# Contact, Day, Month of the week\n",
    "sns.countplot(bank_related['contact'], ax = ax1)\n",
    "ax1.set_xlabel('Contact', fontsize = 10)\n",
    "ax1.set_ylabel('Count', fontsize = 10)\n",
    "ax1.set_title('Contact Counts')\n",
    "ax1.tick_params(labelsize=10)\n",
    "\n",
    "sns.countplot(bank_related['month'], ax = ax2, order = ['mar', 'apr', 'may', 'jun', 'jul', 'aug', 'sep', 'oct', 'nov', 'dec'])\n",
    "ax2.set_xlabel('Months', fontsize = 10)\n",
    "ax2.set_ylabel('')\n",
    "ax2.set_title('Months Counts')\n",
    "ax2.tick_params(labelsize=10)\n",
    "\n",
    "sns.countplot(bank_related['day_of_week'], ax = ax3)\n",
    "ax3.set_xlabel('Day of Week', fontsize = 10)\n",
    "ax3.set_ylabel('')\n",
    "ax3.set_title('Day of Week Counts')\n",
    "ax3.tick_params(labelsize=10)\n",
    "\n",
    "plt.subplots_adjust(wspace=0.25)"
   ]
  },
  {
   "cell_type": "code",
   "execution_count": 36,
   "metadata": {},
   "outputs": [],
   "source": [
    "# Contact, Month, Day of the week treatment\n",
    "# Label encoder order is alphabetical\n",
    "# from sklearn.preprocessing import LabelEncoder\n",
    "labelencoder_X = LabelEncoder()\n",
    "bank_related['contact']     = labelencoder_X.fit_transform(bank_related['contact']) \n",
    "bank_related['month']       = labelencoder_X.fit_transform(bank_related['month']) \n",
    "bank_related['day_of_week'] = labelencoder_X.fit_transform(bank_related['day_of_week']) "
   ]
  },
  {
   "cell_type": "code",
   "execution_count": 37,
   "metadata": {},
   "outputs": [],
   "source": [
    "def duration(data):\n",
    "\n",
    "    data.loc[data['duration'] <= 102, 'duration'] = 1\n",
    "    data.loc[(data['duration'] > 102) & (data['duration'] <= 180)  , 'duration']    = 2\n",
    "    data.loc[(data['duration'] > 180) & (data['duration'] <= 319)  , 'duration']   = 3\n",
    "    data.loc[(data['duration'] > 319) & (data['duration'] <= 644.5), 'duration'] = 4\n",
    "    data.loc[data['duration']  > 644.5, 'duration'] = 5\n",
    "\n",
    "    return data\n",
    "duration(bank_related);"
   ]
  },
  {
   "cell_type": "code",
   "execution_count": 38,
   "metadata": {},
   "outputs": [
    {
     "data": {
      "text/html": [
       "<div>\n",
       "<style scoped>\n",
       "    .dataframe tbody tr th:only-of-type {\n",
       "        vertical-align: middle;\n",
       "    }\n",
       "\n",
       "    .dataframe tbody tr th {\n",
       "        vertical-align: top;\n",
       "    }\n",
       "\n",
       "    .dataframe thead th {\n",
       "        text-align: right;\n",
       "    }\n",
       "</style>\n",
       "<table border=\"1\" class=\"dataframe\">\n",
       "  <thead>\n",
       "    <tr style=\"text-align: right;\">\n",
       "      <th></th>\n",
       "      <th>contact</th>\n",
       "      <th>month</th>\n",
       "      <th>day_of_week</th>\n",
       "      <th>duration</th>\n",
       "    </tr>\n",
       "  </thead>\n",
       "  <tbody>\n",
       "    <tr>\n",
       "      <th>0</th>\n",
       "      <td>1</td>\n",
       "      <td>6</td>\n",
       "      <td>1</td>\n",
       "      <td>3</td>\n",
       "    </tr>\n",
       "    <tr>\n",
       "      <th>1</th>\n",
       "      <td>1</td>\n",
       "      <td>6</td>\n",
       "      <td>1</td>\n",
       "      <td>2</td>\n",
       "    </tr>\n",
       "    <tr>\n",
       "      <th>2</th>\n",
       "      <td>1</td>\n",
       "      <td>6</td>\n",
       "      <td>1</td>\n",
       "      <td>3</td>\n",
       "    </tr>\n",
       "    <tr>\n",
       "      <th>3</th>\n",
       "      <td>1</td>\n",
       "      <td>6</td>\n",
       "      <td>1</td>\n",
       "      <td>2</td>\n",
       "    </tr>\n",
       "    <tr>\n",
       "      <th>4</th>\n",
       "      <td>1</td>\n",
       "      <td>6</td>\n",
       "      <td>1</td>\n",
       "      <td>3</td>\n",
       "    </tr>\n",
       "  </tbody>\n",
       "</table>\n",
       "</div>"
      ],
      "text/plain": [
       "   contact  month  day_of_week  duration\n",
       "0        1      6            1         3\n",
       "1        1      6            1         2\n",
       "2        1      6            1         3\n",
       "3        1      6            1         2\n",
       "4        1      6            1         3"
      ]
     },
     "execution_count": 38,
     "metadata": {},
     "output_type": "execute_result"
    }
   ],
   "source": [
    "bank_related.head()"
   ]
  },
  {
   "cell_type": "code",
   "execution_count": 39,
   "metadata": {},
   "outputs": [
    {
     "data": {
      "text/html": [
       "<div>\n",
       "<style scoped>\n",
       "    .dataframe tbody tr th:only-of-type {\n",
       "        vertical-align: middle;\n",
       "    }\n",
       "\n",
       "    .dataframe tbody tr th {\n",
       "        vertical-align: top;\n",
       "    }\n",
       "\n",
       "    .dataframe thead th {\n",
       "        text-align: right;\n",
       "    }\n",
       "</style>\n",
       "<table border=\"1\" class=\"dataframe\">\n",
       "  <thead>\n",
       "    <tr style=\"text-align: right;\">\n",
       "      <th></th>\n",
       "      <th>emp.var.rate</th>\n",
       "      <th>cons.price.idx</th>\n",
       "      <th>cons.conf.idx</th>\n",
       "      <th>euribor3m</th>\n",
       "      <th>nr.employed</th>\n",
       "    </tr>\n",
       "  </thead>\n",
       "  <tbody>\n",
       "    <tr>\n",
       "      <th>0</th>\n",
       "      <td>1.1</td>\n",
       "      <td>93.994</td>\n",
       "      <td>-36.4</td>\n",
       "      <td>4.857</td>\n",
       "      <td>5191.0</td>\n",
       "    </tr>\n",
       "    <tr>\n",
       "      <th>1</th>\n",
       "      <td>1.1</td>\n",
       "      <td>93.994</td>\n",
       "      <td>-36.4</td>\n",
       "      <td>4.857</td>\n",
       "      <td>5191.0</td>\n",
       "    </tr>\n",
       "    <tr>\n",
       "      <th>2</th>\n",
       "      <td>1.1</td>\n",
       "      <td>93.994</td>\n",
       "      <td>-36.4</td>\n",
       "      <td>4.857</td>\n",
       "      <td>5191.0</td>\n",
       "    </tr>\n",
       "    <tr>\n",
       "      <th>3</th>\n",
       "      <td>1.1</td>\n",
       "      <td>93.994</td>\n",
       "      <td>-36.4</td>\n",
       "      <td>4.857</td>\n",
       "      <td>5191.0</td>\n",
       "    </tr>\n",
       "    <tr>\n",
       "      <th>4</th>\n",
       "      <td>1.1</td>\n",
       "      <td>93.994</td>\n",
       "      <td>-36.4</td>\n",
       "      <td>4.857</td>\n",
       "      <td>5191.0</td>\n",
       "    </tr>\n",
       "  </tbody>\n",
       "</table>\n",
       "</div>"
      ],
      "text/plain": [
       "   emp.var.rate  cons.price.idx  cons.conf.idx  euribor3m  nr.employed\n",
       "0           1.1          93.994          -36.4      4.857       5191.0\n",
       "1           1.1          93.994          -36.4      4.857       5191.0\n",
       "2           1.1          93.994          -36.4      4.857       5191.0\n",
       "3           1.1          93.994          -36.4      4.857       5191.0\n",
       "4           1.1          93.994          -36.4      4.857       5191.0"
      ]
     },
     "execution_count": 39,
     "metadata": {},
     "output_type": "execute_result"
    }
   ],
   "source": [
    "# Social and Economic context attributes\n",
    "bank_se = bank.loc[: , ['emp.var.rate', 'cons.price.idx', 'cons.conf.idx', 'euribor3m', 'nr.employed']]\n",
    "bank_se.head()"
   ]
  },
  {
   "cell_type": "code",
   "execution_count": 40,
   "metadata": {},
   "outputs": [
    {
     "data": {
      "text/html": [
       "<div>\n",
       "<style scoped>\n",
       "    .dataframe tbody tr th:only-of-type {\n",
       "        vertical-align: middle;\n",
       "    }\n",
       "\n",
       "    .dataframe tbody tr th {\n",
       "        vertical-align: top;\n",
       "    }\n",
       "\n",
       "    .dataframe thead th {\n",
       "        text-align: right;\n",
       "    }\n",
       "</style>\n",
       "<table border=\"1\" class=\"dataframe\">\n",
       "  <thead>\n",
       "    <tr style=\"text-align: right;\">\n",
       "      <th></th>\n",
       "      <th>campaign</th>\n",
       "      <th>pdays</th>\n",
       "      <th>previous</th>\n",
       "      <th>poutcome</th>\n",
       "    </tr>\n",
       "  </thead>\n",
       "  <tbody>\n",
       "    <tr>\n",
       "      <th>0</th>\n",
       "      <td>1</td>\n",
       "      <td>999</td>\n",
       "      <td>0</td>\n",
       "      <td>nonexistent</td>\n",
       "    </tr>\n",
       "    <tr>\n",
       "      <th>1</th>\n",
       "      <td>1</td>\n",
       "      <td>999</td>\n",
       "      <td>0</td>\n",
       "      <td>nonexistent</td>\n",
       "    </tr>\n",
       "    <tr>\n",
       "      <th>2</th>\n",
       "      <td>1</td>\n",
       "      <td>999</td>\n",
       "      <td>0</td>\n",
       "      <td>nonexistent</td>\n",
       "    </tr>\n",
       "    <tr>\n",
       "      <th>3</th>\n",
       "      <td>1</td>\n",
       "      <td>999</td>\n",
       "      <td>0</td>\n",
       "      <td>nonexistent</td>\n",
       "    </tr>\n",
       "    <tr>\n",
       "      <th>4</th>\n",
       "      <td>1</td>\n",
       "      <td>999</td>\n",
       "      <td>0</td>\n",
       "      <td>nonexistent</td>\n",
       "    </tr>\n",
       "  </tbody>\n",
       "</table>\n",
       "</div>"
      ],
      "text/plain": [
       "   campaign  pdays  previous     poutcome\n",
       "0         1    999         0  nonexistent\n",
       "1         1    999         0  nonexistent\n",
       "2         1    999         0  nonexistent\n",
       "3         1    999         0  nonexistent\n",
       "4         1    999         0  nonexistent"
      ]
     },
     "execution_count": 40,
     "metadata": {},
     "output_type": "execute_result"
    }
   ],
   "source": [
    "# Other attributes\n",
    "bank_o = bank.loc[: , ['campaign', 'pdays','previous', 'poutcome']]\n",
    "bank_o.head()"
   ]
  },
  {
   "cell_type": "code",
   "execution_count": 41,
   "metadata": {},
   "outputs": [
    {
     "data": {
      "text/plain": [
       "array(['nonexistent', 'failure', 'success'], dtype=object)"
      ]
     },
     "execution_count": 41,
     "metadata": {},
     "output_type": "execute_result"
    }
   ],
   "source": [
    "bank_o['poutcome'].unique()"
   ]
  },
  {
   "cell_type": "code",
   "execution_count": 42,
   "metadata": {},
   "outputs": [],
   "source": [
    "# Manual label encoding\n",
    "bank_o['poutcome'].replace(['nonexistent', 'failure', 'success'], [1,2,3], inplace  = True)"
   ]
  },
  {
   "cell_type": "code",
   "execution_count": 43,
   "metadata": {},
   "outputs": [
    {
     "data": {
      "text/plain": [
       "(41188, 20)"
      ]
     },
     "execution_count": 43,
     "metadata": {},
     "output_type": "execute_result"
    }
   ],
   "source": [
    "# MODEL\n",
    "bank_final= pd.concat([bank_client, bank_related, bank_se, bank_o], axis = 1)\n",
    "bank_final = bank_final[['age', 'job', 'marital', 'education', 'default', 'housing', 'loan',\n",
    "                     'contact', 'month', 'day_of_week', 'duration', 'emp.var.rate', 'cons.price.idx', \n",
    "                     'cons.conf.idx', 'euribor3m', 'nr.employed', 'campaign', 'pdays', 'previous', 'poutcome']]\n",
    "bank_final.shape"
   ]
  },
  {
   "cell_type": "code",
   "execution_count": 44,
   "metadata": {},
   "outputs": [],
   "source": [
    "# Train and test splitting the data\n",
    "from sklearn.model_selection import train_test_split\n",
    "X_train, X_test, y_train, y_test = train_test_split(bank_final, y, test_size = 0.1942313295, random_state = 101)\n",
    "\n",
    "# KFold and cross validation\n",
    "from sklearn.model_selection import KFold\n",
    "from sklearn.model_selection import cross_val_score\n",
    "from sklearn.metrics import confusion_matrix, accuracy_score\n",
    "k_fold = KFold(n_splits=10, shuffle=True, random_state=0)"
   ]
  },
  {
   "cell_type": "code",
   "execution_count": 45,
   "metadata": {},
   "outputs": [],
   "source": [
    "# Perform Standardization\n",
    "from sklearn.preprocessing import StandardScaler\n",
    "sc_X = StandardScaler()\n",
    "X_train = sc_X.fit_transform(X_train)\n",
    "X_test = sc_X.transform(X_test)"
   ]
  },
  {
   "cell_type": "code",
   "execution_count": 46,
   "metadata": {},
   "outputs": [
    {
     "name": "stdout",
     "output_type": "stream",
     "text": [
      "Confusion Matrix : \n",
      " [[6909  164]\n",
      " [ 598  329]]\n",
      "Accuracy :  90.0\n",
      "Cross Validation Score :  0.9097263894783737\n"
     ]
    }
   ],
   "source": [
    "# LOGISTIC REGRESSION Model - Build, train and score the Logistic Regression model\n",
    "from sklearn.linear_model import LogisticRegression\n",
    "logmodel = LogisticRegression() \n",
    "logmodel.fit(X_train,y_train)\n",
    "logpred = logmodel.predict(X_test)\n",
    "\n",
    "\n",
    "print('Confusion Matrix : \\n', confusion_matrix(y_test, logpred))\n",
    "print('Accuracy : ', round(accuracy_score(y_test, logpred),2)*100)\n",
    "LOGCV = (cross_val_score(logmodel, X_train, y_train, cv=k_fold, n_jobs=1, scoring = 'accuracy').mean())\n",
    "print('Cross Validation Score : ', LOGCV)"
   ]
  },
  {
   "cell_type": "code",
   "execution_count": 47,
   "metadata": {},
   "outputs": [
    {
     "name": "stdout",
     "output_type": "stream",
     "text": [
      "k=1, CV Score=87.84 (+/- 0.59)\n",
      "k=2, CV Score=89.73 (+/- 0.50)\n",
      "k=3, CV Score=89.69 (+/- 0.49)\n",
      "k=4, CV Score=90.02 (+/- 0.51)\n",
      "k=5, CV Score=89.98 (+/- 0.41)\n",
      "k=6, CV Score=90.07 (+/- 0.47)\n",
      "k=7, CV Score=90.24 (+/- 0.41)\n",
      "k=8, CV Score=90.28 (+/- 0.48)\n",
      "k=9, CV Score=90.33 (+/- 0.46)\n",
      "k=10, CV Score=90.35 (+/- 0.49)\n",
      "k=11, CV Score=90.33 (+/- 0.51)\n",
      "k=12, CV Score=90.32 (+/- 0.59)\n",
      "k=13, CV Score=90.37 (+/- 0.51)\n",
      "k=14, CV Score=90.40 (+/- 0.48)\n",
      "k=15, CV Score=90.44 (+/- 0.47)\n",
      "k=16, CV Score=90.41 (+/- 0.50)\n",
      "k=17, CV Score=90.41 (+/- 0.50)\n",
      "k=18, CV Score=90.38 (+/- 0.52)\n",
      "k=19, CV Score=90.43 (+/- 0.45)\n",
      "k=20, CV Score=90.38 (+/- 0.48)\n",
      "k=21, CV Score=90.42 (+/- 0.46)\n",
      "k=22, CV Score=90.37 (+/- 0.48)\n",
      "k=23, CV Score=90.45 (+/- 0.44)\n",
      "k=24, CV Score=90.34 (+/- 0.49)\n",
      "k=25, CV Score=90.44 (+/- 0.47)\n",
      "The optimal number of neighbors is 22 with CV Score 90.4%\n"
     ]
    },
    {
     "data": {
      "image/png": "[encoded data removed]",
      "text/plain": [
       "<Figure size 432x288 with 1 Axes>"
      ]
     },
     "metadata": {},
     "output_type": "display_data"
    }
   ],
   "source": [
    "# KNN Model\n",
    "from sklearn import model_selection\n",
    "from sklearn.neighbors import KNeighborsClassifier\n",
    "\n",
    "X_trainK, X_testK, y_trainK, y_testK = train_test_split(bank_final, y, test_size = 0.2, random_state = 101)\n",
    "\n",
    "# Neighbors\n",
    "neighbors = np.arange(0,25)\n",
    "\n",
    "# Create empty list that will hold cv scores\n",
    "cv_scores = []\n",
    "\n",
    "# Perform 10-fold cross validation on training set for odd values of k:\n",
    "for k in neighbors:\n",
    "    k_value = k+1\n",
    "    knn = KNeighborsClassifier(n_neighbors = k_value, weights='uniform', p=2, metric='euclidean')\n",
    "    kfold = model_selection.KFold(n_splits=10, random_state=123)\n",
    "    scores = model_selection.cross_val_score(knn, X_trainK, y_trainK, cv=kfold, scoring='accuracy')\n",
    "    cv_scores.append(scores.mean()*100)\n",
    "    print(\"k=%d, CV Score=%0.2f (+/- %0.2f)\" % (k_value, scores.mean()*100, scores.std()*100))\n",
    "\n",
    "optimal_k = neighbors[cv_scores.index(max(cv_scores))]\n",
    "print (\"The optimal number of neighbors is %d with CV Score %0.1f%%\" % (optimal_k, cv_scores[optimal_k]))\n",
    "\n",
    "plt.plot(neighbors, cv_scores)\n",
    "plt.xlabel('Number of Neighbors K')\n",
    "plt.ylabel('Train Accuracy')\n",
    "plt.show()"
   ]
  },
  {
   "cell_type": "code",
   "execution_count": 48,
   "metadata": {},
   "outputs": [
    {
     "data": {
      "image/png": "[encoded data removed]",
      "text/plain": [
       "<Figure size 432x288 with 2 Axes>"
      ]
     },
     "metadata": {},
     "output_type": "display_data"
    },
    {
     "name": "stdout",
     "output_type": "stream",
     "text": [
      "Accuracy Score :  90.0\n",
      "Cross Validation Score :  0.9048152171879771\n"
     ]
    }
   ],
   "source": [
    "# Now use the optimal n_neighbors value to build model, predict, find confusion matrix, accuracy score and cross val score\n",
    "# This optimal n_neighbors value found is a \"Hyper-parameter\"\n",
    "from sklearn.neighbors import KNeighborsClassifier\n",
    "knn = KNeighborsClassifier(n_neighbors=22)\n",
    "knn.fit(X_train, y_train)\n",
    "knnpred = knn.predict(X_test)\n",
    "\n",
    "cm = confusion_matrix(y_test, knnpred)\n",
    "# visualize with seaborn library\n",
    "sns.heatmap(cm,annot=True,fmt=\"d\") \n",
    "plt.show()\n",
    "\n",
    "print('Accuracy Score : ', round(accuracy_score(y_test, knnpred),2)*100)\n",
    "KNNCV = (cross_val_score(knn, X_train, y_train, cv=k_fold, n_jobs=1, scoring = 'accuracy').mean())\n",
    "print('Cross Validation Score : ', KNNCV)"
   ]
  },
  {
   "cell_type": "code",
   "execution_count": 54,
   "metadata": {},
   "outputs": [
    {
     "name": "stdout",
     "output_type": "stream",
     "text": [
      "Confusion Matrix: \n",
      " [[6531  542]\n",
      " [ 584  343]]\n",
      "Accuracy :  86.0\n",
      "Cross Validation Score :  0.8556404564945723\n"
     ]
    }
   ],
   "source": [
    "# Support Vector Machine Model\n",
    "from sklearn.svm import SVC\n",
    "svc = SVC(kernel = 'sigmoid')\n",
    "svc.fit(X_train, y_train)\n",
    "svcpred = svc.predict(X_test)\n",
    "print('Confusion Matrix: \\n',confusion_matrix(y_test, svcpred))\n",
    "print('Accuracy : ', round(accuracy_score(y_test, svcpred),2)*100)\n",
    "SVCCV = (cross_val_score(svc, X_train, y_train, cv=k_fold, n_jobs=1, scoring = 'accuracy').mean())\n",
    "print('Cross Validation Score : ', SVCCV)"
   ]
  },
  {
   "cell_type": "code",
   "execution_count": 49,
   "metadata": {},
   "outputs": [
    {
     "name": "stdout",
     "output_type": "stream",
     "text": [
      "Confusion Matrix: \n",
      " [[6614  459]\n",
      " [ 483  444]]\n",
      "Accuracy :  88.0\n",
      "Cross Validation Score :  0.8839638383566516\n"
     ]
    }
   ],
   "source": [
    "# Decision Tree Classifier Model\n",
    "from sklearn.tree import DecisionTreeClassifier\n",
    "dtree = DecisionTreeClassifier(criterion='gini') #criterion = entropy, gini\n",
    "dtree.fit(X_train, y_train)\n",
    "dtreepred = dtree.predict(X_test)\n",
    "\n",
    "print('Confusion Matrix: \\n',confusion_matrix(y_test, dtreepred))\n",
    "print('Accuracy : ', round(accuracy_score(y_test, dtreepred),2)*100)\n",
    "DTREECV = (cross_val_score(dtree, X_train, y_train, cv=k_fold, n_jobs=1, scoring = 'accuracy').mean())\n",
    "print('Cross Validation Score : ', DTREECV)"
   ]
  },
  {
   "cell_type": "code",
   "execution_count": 50,
   "metadata": {},
   "outputs": [
    {
     "name": "stdout",
     "output_type": "stream",
     "text": [
      "Confusion Matrix: \n",
      " [[6795  278]\n",
      " [ 485  442]]\n",
      "Accuracy :  90.0\n",
      "Cross Validation Score :  0.9095154099336005\n"
     ]
    }
   ],
   "source": [
    "# Random Forest Classifier Model\n",
    "from sklearn.ensemble import RandomForestClassifier\n",
    "rfc = RandomForestClassifier(n_estimators = 200)#criterion = entropy,gini\n",
    "rfc.fit(X_train, y_train)\n",
    "rfcpred = rfc.predict(X_test)\n",
    "\n",
    "print('Confusion Matrix: \\n',confusion_matrix(y_test, rfcpred ))\n",
    "print('Accuracy : ', round(accuracy_score(y_test, rfcpred),2)*100)\n",
    "RFCCV = (cross_val_score(rfc, X_train, y_train, cv=k_fold, n_jobs=1, scoring = 'accuracy').mean())\n",
    "print('Cross Validation Score : ', RFCCV)"
   ]
  },
  {
   "cell_type": "code",
   "execution_count": 51,
   "metadata": {},
   "outputs": [
    {
     "name": "stdout",
     "output_type": "stream",
     "text": [
      "Confusion Matrix: \n",
      " [[6272  801]\n",
      " [ 417  510]]\n",
      "Accuracy :  85.0\n",
      "Cross Validation Score :  0.8444318707876054\n"
     ]
    }
   ],
   "source": [
    "# Gaussian Naive Bias Classifier Model\n",
    "from sklearn.naive_bayes import GaussianNB\n",
    "gaussiannb= GaussianNB()\n",
    "gaussiannb.fit(X_train, y_train)\n",
    "gaussiannbpred = gaussiannb.predict(X_test)\n",
    "probs = gaussiannb.predict(X_test)\n",
    "\n",
    "print('Confusion Matrix: \\n',confusion_matrix(y_test, gaussiannbpred ))\n",
    "print('Accuracy : ', round(accuracy_score(y_test, gaussiannbpred),2)*100)\n",
    "GAUSIAN = (cross_val_score(gaussiannb, X_train, y_train, cv=k_fold, n_jobs=1, scoring = 'accuracy').mean())\n",
    "print('Cross Validation Score : ', GAUSIAN)"
   ]
  },
  {
   "cell_type": "code",
   "execution_count": 52,
   "metadata": {},
   "outputs": [
    {
     "name": "stderr",
     "output_type": "stream",
     "text": [
      "C:\\Users\\yobhatt\\AppData\\Local\\Continuum\\anaconda3\\lib\\site-packages\\sklearn\\preprocessing\\label.py:151: DeprecationWarning: The truth value of an empty array is ambiguous. Returning False, but in future this will result in an error. Use `array.size > 0` to check that an array is not empty.\n",
      "  if diff:\n"
     ]
    },
    {
     "name": "stdout",
     "output_type": "stream",
     "text": [
      "Confusion Matrix: \n",
      " [[6796  277]\n",
      " [ 462  465]]\n",
      "Accuracy :  91.0\n"
     ]
    },
    {
     "name": "stderr",
     "output_type": "stream",
     "text": [
      "C:\\Users\\yobhatt\\AppData\\Local\\Continuum\\anaconda3\\lib\\site-packages\\sklearn\\preprocessing\\label.py:151: DeprecationWarning: The truth value of an empty array is ambiguous. Returning False, but in future this will result in an error. Use `array.size > 0` to check that an array is not empty.\n",
      "  if diff:\n",
      "C:\\Users\\yobhatt\\AppData\\Local\\Continuum\\anaconda3\\lib\\site-packages\\sklearn\\preprocessing\\label.py:151: DeprecationWarning: The truth value of an empty array is ambiguous. Returning False, but in future this will result in an error. Use `array.size > 0` to check that an array is not empty.\n",
      "  if diff:\n",
      "C:\\Users\\yobhatt\\AppData\\Local\\Continuum\\anaconda3\\lib\\site-packages\\sklearn\\preprocessing\\label.py:151: DeprecationWarning: The truth value of an empty array is ambiguous. Returning False, but in future this will result in an error. Use `array.size > 0` to check that an array is not empty.\n",
      "  if diff:\n",
      "C:\\Users\\yobhatt\\AppData\\Local\\Continuum\\anaconda3\\lib\\site-packages\\sklearn\\preprocessing\\label.py:151: DeprecationWarning: The truth value of an empty array is ambiguous. Returning False, but in future this will result in an error. Use `array.size > 0` to check that an array is not empty.\n",
      "  if diff:\n",
      "C:\\Users\\yobhatt\\AppData\\Local\\Continuum\\anaconda3\\lib\\site-packages\\sklearn\\preprocessing\\label.py:151: DeprecationWarning: The truth value of an empty array is ambiguous. Returning False, but in future this will result in an error. Use `array.size > 0` to check that an array is not empty.\n",
      "  if diff:\n",
      "C:\\Users\\yobhatt\\AppData\\Local\\Continuum\\anaconda3\\lib\\site-packages\\sklearn\\preprocessing\\label.py:151: DeprecationWarning: The truth value of an empty array is ambiguous. Returning False, but in future this will result in an error. Use `array.size > 0` to check that an array is not empty.\n",
      "  if diff:\n",
      "C:\\Users\\yobhatt\\AppData\\Local\\Continuum\\anaconda3\\lib\\site-packages\\sklearn\\preprocessing\\label.py:151: DeprecationWarning: The truth value of an empty array is ambiguous. Returning False, but in future this will result in an error. Use `array.size > 0` to check that an array is not empty.\n",
      "  if diff:\n",
      "C:\\Users\\yobhatt\\AppData\\Local\\Continuum\\anaconda3\\lib\\site-packages\\sklearn\\preprocessing\\label.py:151: DeprecationWarning: The truth value of an empty array is ambiguous. Returning False, but in future this will result in an error. Use `array.size > 0` to check that an array is not empty.\n",
      "  if diff:\n",
      "C:\\Users\\yobhatt\\AppData\\Local\\Continuum\\anaconda3\\lib\\site-packages\\sklearn\\preprocessing\\label.py:151: DeprecationWarning: The truth value of an empty array is ambiguous. Returning False, but in future this will result in an error. Use `array.size > 0` to check that an array is not empty.\n",
      "  if diff:\n"
     ]
    },
    {
     "name": "stdout",
     "output_type": "stream",
     "text": [
      "Cross Validation Score :  0.91032957483864\n"
     ]
    },
    {
     "name": "stderr",
     "output_type": "stream",
     "text": [
      "C:\\Users\\yobhatt\\AppData\\Local\\Continuum\\anaconda3\\lib\\site-packages\\sklearn\\preprocessing\\label.py:151: DeprecationWarning: The truth value of an empty array is ambiguous. Returning False, but in future this will result in an error. Use `array.size > 0` to check that an array is not empty.\n",
      "  if diff:\n"
     ]
    }
   ],
   "source": [
    "# XGBoost Classifier Model\n",
    "from xgboost import XGBClassifier\n",
    "xgb = XGBClassifier()\n",
    "xgb.fit(X_train, y_train)\n",
    "xgbprd = xgb.predict(X_test)\n",
    "\n",
    "print('Confusion Matrix: \\n',confusion_matrix(y_test, xgbprd ))\n",
    "print('Accuracy : ', round(accuracy_score(y_test, xgbprd),2)*100)\n",
    "XGB = (cross_val_score(estimator = xgb, X = X_train, y = y_train, cv = 10).mean())\n",
    "print('Cross Validation Score : ', XGB)"
   ]
  },
  {
   "cell_type": "code",
   "execution_count": 53,
   "metadata": {},
   "outputs": [
    {
     "name": "stdout",
     "output_type": "stream",
     "text": [
      "Confusion Matrix: \n",
      " [[6826  247]\n",
      " [ 460  467]]\n",
      "Accuracy :  91.0\n",
      "Cross Validation Score :  0.9143062365277382\n"
     ]
    }
   ],
   "source": [
    "# Gradient Boosting Classifier Model\n",
    "from sklearn.ensemble import GradientBoostingClassifier\n",
    "gbk = GradientBoostingClassifier()\n",
    "gbk.fit(X_train, y_train)\n",
    "gbkpred = gbk.predict(X_test)\n",
    "\n",
    "print('Confusion Matrix: \\n',confusion_matrix(y_test, gbkpred ))\n",
    "print('Accuracy : ', round(accuracy_score(y_test, gbkpred),2)*100)\n",
    "GBKCV = (cross_val_score(gbk, X_train, y_train, cv=k_fold, n_jobs=1, scoring = 'accuracy').mean())\n",
    "print('Cross Validation Score : ', GBKCV)"
   ]
  },
  {
   "cell_type": "code",
   "execution_count": 55,
   "metadata": {},
   "outputs": [
    {
     "data": {
      "text/html": [
       "<div>\n",
       "<style scoped>\n",
       "    .dataframe tbody tr th:only-of-type {\n",
       "        vertical-align: middle;\n",
       "    }\n",
       "\n",
       "    .dataframe tbody tr th {\n",
       "        vertical-align: top;\n",
       "    }\n",
       "\n",
       "    .dataframe thead th {\n",
       "        text-align: right;\n",
       "    }\n",
       "</style>\n",
       "<table border=\"1\" class=\"dataframe\">\n",
       "  <thead>\n",
       "    <tr style=\"text-align: right;\">\n",
       "      <th></th>\n",
       "      <th>Models</th>\n",
       "      <th>Score</th>\n",
       "    </tr>\n",
       "  </thead>\n",
       "  <tbody>\n",
       "    <tr>\n",
       "      <th>7</th>\n",
       "      <td>Gradient Boosting</td>\n",
       "      <td>0.914306</td>\n",
       "    </tr>\n",
       "    <tr>\n",
       "      <th>6</th>\n",
       "      <td>XGBoost</td>\n",
       "      <td>0.910330</td>\n",
       "    </tr>\n",
       "    <tr>\n",
       "      <th>4</th>\n",
       "      <td>Logistic Model</td>\n",
       "      <td>0.909726</td>\n",
       "    </tr>\n",
       "    <tr>\n",
       "      <th>0</th>\n",
       "      <td>Random Forest Classifier</td>\n",
       "      <td>0.909515</td>\n",
       "    </tr>\n",
       "    <tr>\n",
       "      <th>3</th>\n",
       "      <td>K-Near Neighbors</td>\n",
       "      <td>0.904815</td>\n",
       "    </tr>\n",
       "    <tr>\n",
       "      <th>1</th>\n",
       "      <td>Decision Tree Classifier</td>\n",
       "      <td>0.883964</td>\n",
       "    </tr>\n",
       "    <tr>\n",
       "      <th>2</th>\n",
       "      <td>Support Vector Machine</td>\n",
       "      <td>0.855640</td>\n",
       "    </tr>\n",
       "    <tr>\n",
       "      <th>5</th>\n",
       "      <td>Gausian NB</td>\n",
       "      <td>0.844432</td>\n",
       "    </tr>\n",
       "  </tbody>\n",
       "</table>\n",
       "</div>"
      ],
      "text/plain": [
       "                     Models     Score\n",
       "7         Gradient Boosting  0.914306\n",
       "6                   XGBoost  0.910330\n",
       "4            Logistic Model  0.909726\n",
       "0  Random Forest Classifier  0.909515\n",
       "3          K-Near Neighbors  0.904815\n",
       "1  Decision Tree Classifier  0.883964\n",
       "2    Support Vector Machine  0.855640\n",
       "5                Gausian NB  0.844432"
      ]
     },
     "execution_count": 55,
     "metadata": {},
     "output_type": "execute_result"
    }
   ],
   "source": [
    "# Print the results of models and their scores in summary\n",
    "models = pd.DataFrame({\n",
    "                'Models': ['Random Forest Classifier', 'Decision Tree Classifier', 'Support Vector Machine',\n",
    "                           'K-Near Neighbors', 'Logistic Model', 'Gausian NB', 'XGBoost', 'Gradient Boosting'],\n",
    "                'Score':  [RFCCV, DTREECV, SVCCV, KNNCV, LOGCV, GAUSIAN, XGB, GBKCV]})\n",
    "\n",
    "models.sort_values(by='Score', ascending=False)"
   ]
  },
  {
   "cell_type": "code",
   "execution_count": null,
   "metadata": {},
   "outputs": [],
   "source": [
    "# Accuracy is measured by the area under the ROC curve. An area of 1 represents a perfect test; an area of .5 represents a worthless test.\n",
    "\n",
    "# A rough guide for classifying the accuracy of a diagnostic test is the traditional academic point system:\n",
    "# .90-1 = excellent (A)\n",
    "# .80-.90 = good (B)\n",
    "# .70-.80 = fair (C)\n",
    "# .60-.70 = poor (D)\n",
    "# .50-.60 = fail (F)"
   ]
  },
  {
   "cell_type": "code",
   "execution_count": 56,
   "metadata": {},
   "outputs": [
    {
     "data": {
      "image/png": "[encoded data removed]",
      "text/plain": [
       "<Figure size 1080x360 with 2 Axes>"
      ]
     },
     "metadata": {},
     "output_type": "display_data"
    }
   ],
   "source": [
    "# XGBOOST ROC/ AUC , BEST MODEL\n",
    "from sklearn import metrics\n",
    "fig, (ax, ax1) = plt.subplots(nrows = 1, ncols = 2, figsize = (15,5))\n",
    "probs = xgb.predict_proba(X_test)\n",
    "preds = probs[:,1]\n",
    "fprxgb, tprxgb, thresholdxgb = metrics.roc_curve(y_test, preds)\n",
    "roc_aucxgb = metrics.auc(fprxgb, tprxgb)\n",
    "\n",
    "ax.plot(fprxgb, tprxgb, 'b', label = 'AUC = %0.2f' % roc_aucxgb)\n",
    "ax.plot([0, 1], [0, 1],'r--')\n",
    "ax.set_title('Receiver Operating Characteristic XGBOOST ',fontsize=10)\n",
    "ax.set_ylabel('True Positive Rate',fontsize=20)\n",
    "ax.set_xlabel('False Positive Rate',fontsize=15)\n",
    "ax.legend(loc = 'lower right', prop={'size': 16})\n",
    "\n",
    "# Gradient Boost\n",
    "probs = gbk.predict_proba(X_test)\n",
    "preds = probs[:,1]\n",
    "fprgbk, tprgbk, thresholdgbk = metrics.roc_curve(y_test, preds)\n",
    "roc_aucgbk = metrics.auc(fprgbk, tprgbk)\n",
    "\n",
    "ax1.plot(fprgbk, tprgbk, 'b', label = 'AUC = %0.2f' % roc_aucgbk)\n",
    "ax1.plot([0, 1], [0, 1],'r--')\n",
    "ax1.set_title('Receiver Operating Characteristic GRADIENT BOOST ',fontsize=10)\n",
    "ax1.set_ylabel('True Positive Rate',fontsize=20)\n",
    "ax1.set_xlabel('False Positive Rate',fontsize=15)\n",
    "ax1.legend(loc = 'lower right', prop={'size': 16})\n",
    "\n",
    "plt.subplots_adjust(wspace=1)"
   ]
  },
  {
   "cell_type": "code",
   "execution_count": 57,
   "metadata": {},
   "outputs": [
    {
     "data": {
      "image/png": "[encoded data removed]",
      "text/plain": [
       "<Figure size 1440x1080 with 6 Axes>"
      ]
     },
     "metadata": {},
     "output_type": "display_data"
    }
   ],
   "source": [
    "#fig, (ax1, ax2, ax3, ax4, ax5) = plt.subplots(nrows = 2, ncols = 3, figsize = (15, 4))\n",
    "fig, ax_arr = plt.subplots(nrows = 2, ncols = 3, figsize = (20,15))\n",
    "\n",
    "#LOGMODEL\n",
    "probs = logmodel.predict_proba(X_test)\n",
    "preds = probs[:,1]\n",
    "fprlog, tprlog, thresholdlog = metrics.roc_curve(y_test, preds)\n",
    "roc_auclog = metrics.auc(fprlog, tprlog)\n",
    "\n",
    "ax_arr[0,0].plot(fprlog, tprlog, 'b', label = 'AUC = %0.2f' % roc_auclog)\n",
    "ax_arr[0,0].plot([0, 1], [0, 1],'r--')\n",
    "ax_arr[0,0].set_title('Receiver Operating Characteristic Logistic ',fontsize=20)\n",
    "ax_arr[0,0].set_ylabel('True Positive Rate',fontsize=20)\n",
    "ax_arr[0,0].set_xlabel('False Positive Rate',fontsize=15)\n",
    "ax_arr[0,0].legend(loc = 'lower right', prop={'size': 16})\n",
    "\n",
    "#RANDOM FOREST --------------------\n",
    "probs = rfc.predict_proba(X_test)\n",
    "preds = probs[:,1]\n",
    "fprrfc, tprrfc, thresholdrfc = metrics.roc_curve(y_test, preds)\n",
    "roc_aucrfc = metrics.auc(fprrfc, tprrfc)\n",
    "\n",
    "ax_arr[0,1].plot(fprrfc, tprrfc, 'b', label = 'AUC = %0.2f' % roc_aucrfc)\n",
    "ax_arr[0,1].plot([0, 1], [0, 1],'r--')\n",
    "ax_arr[0,1].set_title('Receiver Operating Characteristic Random Forest ',fontsize=20)\n",
    "ax_arr[0,1].set_ylabel('True Positive Rate',fontsize=20)\n",
    "ax_arr[0,1].set_xlabel('False Positive Rate',fontsize=15)\n",
    "ax_arr[0,1].legend(loc = 'lower right', prop={'size': 16})\n",
    "\n",
    "#KNN----------------------\n",
    "probs = knn.predict_proba(X_test)\n",
    "preds = probs[:,1]\n",
    "fprknn, tprknn, thresholdknn = metrics.roc_curve(y_test, preds)\n",
    "roc_aucknn = metrics.auc(fprknn, tprknn)\n",
    "\n",
    "ax_arr[0,2].plot(fprknn, tprknn, 'b', label = 'AUC = %0.2f' % roc_aucknn)\n",
    "ax_arr[0,2].plot([0, 1], [0, 1],'r--')\n",
    "ax_arr[0,2].set_title('Receiver Operating Characteristic KNN ',fontsize=20)\n",
    "ax_arr[0,2].set_ylabel('True Positive Rate',fontsize=20)\n",
    "ax_arr[0,2].set_xlabel('False Positive Rate',fontsize=15)\n",
    "ax_arr[0,2].legend(loc = 'lower right', prop={'size': 16})\n",
    "\n",
    "#DECISION TREE ---------------------\n",
    "probs = dtree.predict_proba(X_test)\n",
    "preds = probs[:,1]\n",
    "fprdtree, tprdtree, thresholddtree = metrics.roc_curve(y_test, preds)\n",
    "roc_aucdtree = metrics.auc(fprdtree, tprdtree)\n",
    "\n",
    "ax_arr[1,0].plot(fprdtree, tprdtree, 'b', label = 'AUC = %0.2f' % roc_aucdtree)\n",
    "ax_arr[1,0].plot([0, 1], [0, 1],'r--')\n",
    "ax_arr[1,0].set_title('Receiver Operating Characteristic Decision Tree ',fontsize=20)\n",
    "ax_arr[1,0].set_ylabel('True Positive Rate',fontsize=20)\n",
    "ax_arr[1,0].set_xlabel('False Positive Rate',fontsize=15)\n",
    "ax_arr[1,0].legend(loc = 'lower right', prop={'size': 16})\n",
    "\n",
    "#GAUSSIAN ---------------------\n",
    "probs = gaussiannb.predict_proba(X_test)\n",
    "preds = probs[:,1]\n",
    "fprgau, tprgau, thresholdgau = metrics.roc_curve(y_test, preds)\n",
    "roc_aucgau = metrics.auc(fprgau, tprgau)\n",
    "\n",
    "ax_arr[1,1].plot(fprgau, tprgau, 'b', label = 'AUC = %0.2f' % roc_aucgau)\n",
    "ax_arr[1,1].plot([0, 1], [0, 1],'r--')\n",
    "ax_arr[1,1].set_title('Receiver Operating Characteristic Gaussian ',fontsize=20)\n",
    "ax_arr[1,1].set_ylabel('True Positive Rate',fontsize=20)\n",
    "ax_arr[1,1].set_xlabel('False Positive Rate',fontsize=15)\n",
    "ax_arr[1,1].legend(loc = 'lower right', prop={'size': 16})\n",
    "\n",
    "#ALL PLOTS ----------------------------------\n",
    "ax_arr[1,2].plot(fprgau, tprgau, 'b', label = 'Gaussian', color='black')\n",
    "ax_arr[1,2].plot(fprdtree, tprdtree, 'b', label = 'Decision Tree', color='blue')\n",
    "ax_arr[1,2].plot(fprknn, tprknn, 'b', label = 'Knn', color='brown')\n",
    "ax_arr[1,2].plot(fprrfc, tprrfc, 'b', label = 'Random Forest', color='green')\n",
    "ax_arr[1,2].plot(fprlog, tprlog, 'b', label = 'Logistic', color='grey')\n",
    "ax_arr[1,2].set_title('Receiver Operating Comparison ',fontsize=20)\n",
    "ax_arr[1,2].set_ylabel('True Positive Rate',fontsize=20)\n",
    "ax_arr[1,2].set_xlabel('False Positive Rate',fontsize=15)\n",
    "ax_arr[1,2].legend(loc = 'lower right', prop={'size': 16})\n",
    "\n",
    "plt.subplots_adjust(wspace=0.2)\n",
    "plt.tight_layout() "
   ]
  },
  {
   "cell_type": "code",
   "execution_count": 58,
   "metadata": {},
   "outputs": [
    {
     "name": "stdout",
     "output_type": "stream",
     "text": [
      "KNN Confusion Matrix\n",
      " [[6962  111]\n",
      " [ 684  243]]\n"
     ]
    }
   ],
   "source": [
    "# Analyzing the results\n",
    "\n",
    "# So now we have to decide which one is the best model, and we have two types of wrong values:\n",
    "# 1) False Positive, means the client do NOT SUBSCRIBED to term deposit, but the model thinks he did.\n",
    "# 2) False Negative, means the client SUBSCRIBED to term deposit, but the model said he dont.\n",
    "\n",
    "# The first one is most harmful, because we think that we already have that client but we dont and maybe we lost \n",
    "# him in other future campaings\n",
    "# The second its not good but its ok, we have that client and in the future we'll discovery that in truth he's already \n",
    "# our client\n",
    "\n",
    "# So, our objective here, is to find the best model by confusion matrix with the lowest False Positive as possible.\n",
    "# Obs1 - lets go back and look the best confusion matrix that attend this criteria \n",
    "# Obs2 - i'll do the math manualy to be more visible and understanding\n",
    "from sklearn.metrics import classification_report\n",
    "print('KNN Confusion Matrix\\n', confusion_matrix(y_test, knnpred))"
   ]
  },
  {
   "cell_type": "code",
   "execution_count": 59,
   "metadata": {},
   "outputs": [
    {
     "name": "stdout",
     "output_type": "stream",
     "text": [
      "KNN Reports\n",
      "              precision    recall  f1-score   support\n",
      "\n",
      "          0       0.91      0.98      0.95      7073\n",
      "          1       0.69      0.26      0.38       927\n",
      "\n",
      "avg / total       0.88      0.90      0.88      8000\n",
      "\n"
     ]
    }
   ],
   "source": [
    "print('KNN Reports\\n',classification_report(y_test, knnpred))"
   ]
  },
  {
   "cell_type": "code",
   "execution_count": 60,
   "metadata": {},
   "outputs": [
    {
     "name": "stdout",
     "output_type": "stream",
     "text": [
      "0.98\n"
     ]
    }
   ],
   "source": [
    "# Choosing model - Analysis\n",
    "\n",
    "# RECALL - Specificity\n",
    "# TN / (TN + FP) [ MATRIX LINE 1 ]\n",
    "\n",
    "# For all NEGATIVE(0) REAL VALUES how much we predict correct ?\n",
    "# other way to understand, our real test set has 7163+116 = 7279 clients that didin't subscribe(0), \n",
    "# and our model predict 98% correct or 7163 correct and 116 incorrect\n",
    "print(round(7163 /(7163 + 116),2))"
   ]
  },
  {
   "cell_type": "code",
   "execution_count": 61,
   "metadata": {},
   "outputs": [
    {
     "name": "stdout",
     "output_type": "stream",
     "text": [
      "0.26\n",
      "0.26\n"
     ]
    }
   ],
   "source": [
    "# Recall - Sensitivity\n",
    "# TP / (TP + FN) [ MATRIX LINE 2 ]\n",
    "\n",
    "# For all POSITIVE(1) REAL VALUES how much we predict correct ?\n",
    "# other way to understand, our real test set has 706 + 253 = 959 clients that subscribe(1), and \n",
    "# our model predict 26% correct or 253 correct and 706 incorrect, BUT REMEMBER, its best we miss by False negative \n",
    "# instead of False Positive\n",
    "print(round(253 / (253 + 706  ),2))\n",
    "print(round(metrics.recall_score(y_test, knnpred),2))"
   ]
  },
  {
   "cell_type": "code",
   "execution_count": 62,
   "metadata": {},
   "outputs": [
    {
     "name": "stdout",
     "output_type": "stream",
     "text": [
      "0.91\n"
     ]
    }
   ],
   "source": [
    "# PRECISION\n",
    "# TN / (TN + FN) [ MATRIX COLUMN 1 ]\n",
    "\n",
    "# For all NEGATIVE(0) PREDICTIONS by our model, how much we predict correct ?\n",
    "# other way to understand, our model pointed 7163 + 706 = 7869 clients that didin't subscribe(0), \n",
    "# and our model predict 91% correct or 7163 correct and 706 incorrect\n",
    "print(round(7163 / (7163 + 706),2))"
   ]
  },
  {
   "cell_type": "code",
   "execution_count": 63,
   "metadata": {},
   "outputs": [
    {
     "name": "stdout",
     "output_type": "stream",
     "text": [
      "0.69\n",
      "0.69\n"
     ]
    }
   ],
   "source": [
    "# Precision\n",
    "# TN / (TN + FN) [ MATRIX COLUMN 1 ]\n",
    "\n",
    "# For all POSITIVE(1) PREDICTIONS by our model, how much we predict correct ?\n",
    "# other way to understand, our model pointed 116 + 253 = 369 clients that subscribe(1), and\n",
    "# our model predict 69% correct or 253 correct and 116 incorrect\n",
    "print(round(253 / (253 + 116),2))\n",
    "print(round(metrics.precision_score(y_test, knnpred),2))"
   ]
  },
  {
   "cell_type": "code",
   "execution_count": 64,
   "metadata": {},
   "outputs": [
    {
     "data": {
      "text/plain": [
       "0.94"
      ]
     },
     "execution_count": 64,
     "metadata": {},
     "output_type": "execute_result"
    }
   ],
   "source": [
    "# F1-Score\n",
    "# F1-Score is a \"median\" of Recall and Precision, consider this when you want a balance between this metrics\n",
    "# F1 = 2(Precision(0) Recall(0)) / (Precision(0) + Recall(0))\n",
    "F1_0 = 2*0.91*0.98/(0.91+0.98)\n",
    "round(F1_0,2)"
   ]
  },
  {
   "cell_type": "code",
   "execution_count": 65,
   "metadata": {},
   "outputs": [
    {
     "data": {
      "text/plain": [
       "0.38"
      ]
     },
     "execution_count": 65,
     "metadata": {},
     "output_type": "execute_result"
    }
   ],
   "source": [
    "F1_1 = 2*0.69*0.26/(0.69+0.26)\n",
    "round(F1_1,2)"
   ]
  },
  {
   "cell_type": "code",
   "execution_count": 67,
   "metadata": {},
   "outputs": [
    {
     "name": "stdout",
     "output_type": "stream",
     "text": [
      "Average Precision:  0.88\n",
      "Average Recall:  0.9\n",
      "Average F1:  0.88\n"
     ]
    }
   ],
   "source": [
    "# AVG / TOTAL\n",
    "# This considers the weights of sum of REAL VALUES [line 1] [line2]\n",
    "AVG_precision =  (0.91*(7279/8238))+ (0.69*(959/8238))\n",
    "print('Average Precision: ', round(AVG_precision,2))\n",
    "AVG_Recall =  (0.98*(7279/8238))+ (0.26*(959/8238))\n",
    "print('Average Recall: ', round(AVG_Recall,2))\n",
    "AVG_f1 =  (0.95*(7279/8238))+ (0.38*(959/8238))\n",
    "print('Average F1: ', round(AVG_f1,2))"
   ]
  },
  {
   "cell_type": "code",
   "execution_count": null,
   "metadata": {},
   "outputs": [],
   "source": []
  },
  {
   "cell_type": "code",
   "execution_count": null,
   "metadata": {},
   "outputs": [],
   "source": []
  },
  {
   "cell_type": "code",
   "execution_count": null,
   "metadata": {},
   "outputs": [],
   "source": []
  },
  {
   "cell_type": "code",
   "execution_count": null,
   "metadata": {},
   "outputs": [],
   "source": []
  },
  {
   "cell_type": "code",
   "execution_count": null,
   "metadata": {},
   "outputs": [],
   "source": []
  },
  {
   "cell_type": "code",
   "execution_count": null,
   "metadata": {},
   "outputs": [],
   "source": []
  }
 ],
 "metadata": {
  "celltoolbar": "Raw Cell Format",
  "kernelspec": {
   "display_name": "Python 3",
   "language": "python",
   "name": "python3"
  },
  "language_info": {
   "codemirror_mode": {
    "name": "ipython",
    "version": 3
   },
   "file_extension": ".py",
   "mimetype": "text/x-python",
   "name": "python",
   "nbconvert_exporter": "python",
   "pygments_lexer": "ipython3",
   "version": "3.6.5"
  }
 },
 "nbformat": 4,
 "nbformat_minor": 2
}
